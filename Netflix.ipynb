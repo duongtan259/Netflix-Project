{
 "cells": [
  {
   "cell_type": "markdown",
   "metadata": {},
   "source": [
    "<h1>EDA of Netflix</h1>\n",
    "<img src='data:image/jpeg;base64,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'>"
   ]
  },
  {
   "cell_type": "markdown",
   "metadata": {},
   "source": [
    "<h2>Dataset Content</h2>\n",
    "<p>This dataset consists of tv shows and movies available on Netflix as of 2019. The dataset is collected from Flixable which is a third-party Netflix search engine.\n",
    "\n",
    "In 2018, they released an interesting report which shows that the number of TV shows on Netflix has nearly tripled since 2010. The streaming service’s number of movies has decreased by more than 2,000 titles since 2010, while its number of TV shows has nearly tripled. It will be interesting to explore what all other insights can be obtained from the same dataset.\n",
    "\n",
    "Integrating this dataset with other external datasets such as IMDB ratings, rotten tomatoes can also provide many interesting findings.</p>\n",
    "<ul>Inspiration\n",
    "    <li>Understanding what content is available in different countries</li>\n",
    "    <li>Identifying similar content by matching text-based features</li>\n",
    "    <li>Network analysis of Actors / Directors and find interesting insights</li>\n",
    "    <li>Is Netflix has increasingly focusing on TV rather than movies in recent years.</li>\n",
    "</ul>"
   ]
  },
  {
   "cell_type": "markdown",
   "metadata": {},
   "source": [
    "### Import necessary libraries"
   ]
  },
  {
   "cell_type": "code",
   "execution_count": 1,
   "metadata": {
    "_cell_guid": "b1076dfc-b9ad-4769-8c92-a6c4dae69d19",
    "_uuid": "8f2839f25d086af736a60e9eeb907d3b93b6e0e5"
   },
   "outputs": [],
   "source": [
    "import numpy as np # linear algebra\n",
    "import pandas as pd # data processing, CSV file I/O (e.g. pd.read_csv)\n",
    "import matplotlib.pyplot as plt\n",
    "import seaborn as sns\n",
    "import os\n",
    "plt.style.use('seaborn-whitegrid')\n",
    "sns.set_style('whitegrid')"
   ]
  },
  {
   "cell_type": "markdown",
   "metadata": {},
   "source": [
    "### Read in updated dataframe"
   ]
  },
  {
   "cell_type": "code",
   "execution_count": 2,
   "metadata": {
    "_cell_guid": "79c7e3d0-c299-4dcb-8224-4455121ee9b0",
    "_uuid": "d629ff2d2480ee46fbb7e2d37f6b5fab8052498a"
   },
   "outputs": [
    {
     "data": {
      "text/html": [
       "<div>\n",
       "<style scoped>\n",
       "    .dataframe tbody tr th:only-of-type {\n",
       "        vertical-align: middle;\n",
       "    }\n",
       "\n",
       "    .dataframe tbody tr th {\n",
       "        vertical-align: top;\n",
       "    }\n",
       "\n",
       "    .dataframe thead th {\n",
       "        text-align: right;\n",
       "    }\n",
       "</style>\n",
       "<table border=\"1\" class=\"dataframe\">\n",
       "  <thead>\n",
       "    <tr style=\"text-align: right;\">\n",
       "      <th></th>\n",
       "      <th>show_id</th>\n",
       "      <th>type</th>\n",
       "      <th>title</th>\n",
       "      <th>director</th>\n",
       "      <th>cast</th>\n",
       "      <th>country</th>\n",
       "      <th>date_added</th>\n",
       "      <th>release_year</th>\n",
       "      <th>rating</th>\n",
       "      <th>duration</th>\n",
       "      <th>listed_in</th>\n",
       "      <th>description</th>\n",
       "    </tr>\n",
       "  </thead>\n",
       "  <tbody>\n",
       "    <tr>\n",
       "      <th>0</th>\n",
       "      <td>s1</td>\n",
       "      <td>TV Show</td>\n",
       "      <td>3%</td>\n",
       "      <td>NaN</td>\n",
       "      <td>João Miguel, Bianca Comparato, Michel Gomes, R...</td>\n",
       "      <td>Brazil</td>\n",
       "      <td>August 14, 2020</td>\n",
       "      <td>2020</td>\n",
       "      <td>TV-MA</td>\n",
       "      <td>4 Seasons</td>\n",
       "      <td>International TV Shows, TV Dramas, TV Sci-Fi &amp;...</td>\n",
       "      <td>In a future where the elite inhabit an island ...</td>\n",
       "    </tr>\n",
       "    <tr>\n",
       "      <th>1</th>\n",
       "      <td>s2</td>\n",
       "      <td>Movie</td>\n",
       "      <td>7:19</td>\n",
       "      <td>Jorge Michel Grau</td>\n",
       "      <td>Demián Bichir, Héctor Bonilla, Oscar Serrano, ...</td>\n",
       "      <td>Mexico</td>\n",
       "      <td>December 23, 2016</td>\n",
       "      <td>2016</td>\n",
       "      <td>TV-MA</td>\n",
       "      <td>93 min</td>\n",
       "      <td>Dramas, International Movies</td>\n",
       "      <td>After a devastating earthquake hits Mexico Cit...</td>\n",
       "    </tr>\n",
       "    <tr>\n",
       "      <th>2</th>\n",
       "      <td>s3</td>\n",
       "      <td>Movie</td>\n",
       "      <td>23:59</td>\n",
       "      <td>Gilbert Chan</td>\n",
       "      <td>Tedd Chan, Stella Chung, Henley Hii, Lawrence ...</td>\n",
       "      <td>Singapore</td>\n",
       "      <td>December 20, 2018</td>\n",
       "      <td>2011</td>\n",
       "      <td>R</td>\n",
       "      <td>78 min</td>\n",
       "      <td>Horror Movies, International Movies</td>\n",
       "      <td>When an army recruit is found dead, his fellow...</td>\n",
       "    </tr>\n",
       "    <tr>\n",
       "      <th>3</th>\n",
       "      <td>s4</td>\n",
       "      <td>Movie</td>\n",
       "      <td>9</td>\n",
       "      <td>Shane Acker</td>\n",
       "      <td>Elijah Wood, John C. Reilly, Jennifer Connelly...</td>\n",
       "      <td>United States</td>\n",
       "      <td>November 16, 2017</td>\n",
       "      <td>2009</td>\n",
       "      <td>PG-13</td>\n",
       "      <td>80 min</td>\n",
       "      <td>Action &amp; Adventure, Independent Movies, Sci-Fi...</td>\n",
       "      <td>In a postapocalyptic world, rag-doll robots hi...</td>\n",
       "    </tr>\n",
       "    <tr>\n",
       "      <th>4</th>\n",
       "      <td>s5</td>\n",
       "      <td>Movie</td>\n",
       "      <td>21</td>\n",
       "      <td>Robert Luketic</td>\n",
       "      <td>Jim Sturgess, Kevin Spacey, Kate Bosworth, Aar...</td>\n",
       "      <td>United States</td>\n",
       "      <td>January 1, 2020</td>\n",
       "      <td>2008</td>\n",
       "      <td>PG-13</td>\n",
       "      <td>123 min</td>\n",
       "      <td>Dramas</td>\n",
       "      <td>A brilliant group of students become card-coun...</td>\n",
       "    </tr>\n",
       "  </tbody>\n",
       "</table>\n",
       "</div>"
      ],
      "text/plain": [
       "  show_id     type  title           director  \\\n",
       "0      s1  TV Show     3%                NaN   \n",
       "1      s2    Movie   7:19  Jorge Michel Grau   \n",
       "2      s3    Movie  23:59       Gilbert Chan   \n",
       "3      s4    Movie      9        Shane Acker   \n",
       "4      s5    Movie     21     Robert Luketic   \n",
       "\n",
       "                                                cast        country  \\\n",
       "0  João Miguel, Bianca Comparato, Michel Gomes, R...         Brazil   \n",
       "1  Demián Bichir, Héctor Bonilla, Oscar Serrano, ...         Mexico   \n",
       "2  Tedd Chan, Stella Chung, Henley Hii, Lawrence ...      Singapore   \n",
       "3  Elijah Wood, John C. Reilly, Jennifer Connelly...  United States   \n",
       "4  Jim Sturgess, Kevin Spacey, Kate Bosworth, Aar...  United States   \n",
       "\n",
       "          date_added  release_year rating   duration  \\\n",
       "0    August 14, 2020          2020  TV-MA  4 Seasons   \n",
       "1  December 23, 2016          2016  TV-MA     93 min   \n",
       "2  December 20, 2018          2011      R     78 min   \n",
       "3  November 16, 2017          2009  PG-13     80 min   \n",
       "4    January 1, 2020          2008  PG-13    123 min   \n",
       "\n",
       "                                           listed_in  \\\n",
       "0  International TV Shows, TV Dramas, TV Sci-Fi &...   \n",
       "1                       Dramas, International Movies   \n",
       "2                Horror Movies, International Movies   \n",
       "3  Action & Adventure, Independent Movies, Sci-Fi...   \n",
       "4                                             Dramas   \n",
       "\n",
       "                                         description  \n",
       "0  In a future where the elite inhabit an island ...  \n",
       "1  After a devastating earthquake hits Mexico Cit...  \n",
       "2  When an army recruit is found dead, his fellow...  \n",
       "3  In a postapocalyptic world, rag-doll robots hi...  \n",
       "4  A brilliant group of students become card-coun...  "
      ]
     },
     "execution_count": 2,
     "metadata": {},
     "output_type": "execute_result"
    }
   ],
   "source": [
    "df=pd.read_csv('netflix_titles.csv')\n",
    "df.head()"
   ]
  },
  {
   "cell_type": "markdown",
   "metadata": {},
   "source": [
    "### Data Investigation"
   ]
  },
  {
   "cell_type": "code",
   "execution_count": 3,
   "metadata": {},
   "outputs": [
    {
     "name": "stdout",
     "output_type": "stream",
     "text": [
      "Netflix movies and shows:  7787\n",
      "Dataset variables:  12\n",
      "----------\n",
      "Dateset columns: \n",
      "\n",
      "Index(['show_id', 'type', 'title', 'director', 'cast', 'country', 'date_added',\n",
      "       'release_year', 'rating', 'duration', 'listed_in', 'description'],\n",
      "      dtype='object')\n",
      "----------\n",
      "Data-type of each column: \n",
      "\n",
      "show_id         object\n",
      "type            object\n",
      "title           object\n",
      "director        object\n",
      "cast            object\n",
      "country         object\n",
      "date_added      object\n",
      "release_year     int64\n",
      "rating          object\n",
      "duration        object\n",
      "listed_in       object\n",
      "description     object\n",
      "dtype: object\n",
      "----------\n",
      "Missing rows in each column: \n",
      "\n",
      "director      2389\n",
      "cast           718\n",
      "country        507\n",
      "date_added      10\n",
      "rating           7\n",
      "dtype: int64\n"
     ]
    }
   ],
   "source": [
    "def data_inv(df):\n",
    "    print('Netflix movies and shows: ',df.shape[0])\n",
    "    print('Dataset variables: ',df.shape[1])\n",
    "    print('-'*10)\n",
    "    print('Dateset columns: \\n')\n",
    "    print(df.columns)\n",
    "    print('-'*10)\n",
    "    print('Data-type of each column: \\n')\n",
    "    print(df.dtypes)\n",
    "    print('-'*10)\n",
    "    print('Missing rows in each column: \\n')\n",
    "    c=df.isnull().sum()\n",
    "    print(c[c>0])\n",
    "data_inv(df)"
   ]
  },
  {
   "cell_type": "markdown",
   "metadata": {},
   "source": [
    "### Data Cleaning"
   ]
  },
  {
   "cell_type": "markdown",
   "metadata": {},
   "source": [
    "\n",
    "<ul>\n",
    "    <li>Drop id column</li>\n",
    "    <li>Drop dublicate shows</li>\n",
    "    <li>Create a new column shows the number of cast in each row</li>\n",
    "    <li>We have 10 missing rows in rating column, replace them by the mode</li>\n",
    "    <li>For the missing rows in added_date column, replace them by January 1,{release_year}</li>\n",
    "    <li>I think we can not replace missing rows in column country by other countries, but we can use genre to <br>\n",
    "        identify this country ex: replace missing rows by japan for Anime</li>\n",
    "    <li>Convert the date_added column from object type to datetime</li>\n",
    "</ul>"
   ]
  },
  {
   "cell_type": "markdown",
   "metadata": {},
   "source": [
    "#### Drop duplicated values"
   ]
  },
  {
   "cell_type": "code",
   "execution_count": 4,
   "metadata": {},
   "outputs": [
    {
     "data": {
      "text/html": [
       "<div>\n",
       "<style scoped>\n",
       "    .dataframe tbody tr th:only-of-type {\n",
       "        vertical-align: middle;\n",
       "    }\n",
       "\n",
       "    .dataframe tbody tr th {\n",
       "        vertical-align: top;\n",
       "    }\n",
       "\n",
       "    .dataframe thead th {\n",
       "        text-align: right;\n",
       "    }\n",
       "</style>\n",
       "<table border=\"1\" class=\"dataframe\">\n",
       "  <thead>\n",
       "    <tr style=\"text-align: right;\">\n",
       "      <th></th>\n",
       "      <th>show_id</th>\n",
       "      <th>type</th>\n",
       "      <th>title</th>\n",
       "      <th>director</th>\n",
       "      <th>cast</th>\n",
       "      <th>country</th>\n",
       "      <th>date_added</th>\n",
       "      <th>release_year</th>\n",
       "      <th>rating</th>\n",
       "      <th>duration</th>\n",
       "      <th>listed_in</th>\n",
       "      <th>description</th>\n",
       "    </tr>\n",
       "  </thead>\n",
       "  <tbody>\n",
       "  </tbody>\n",
       "</table>\n",
       "</div>"
      ],
      "text/plain": [
       "Empty DataFrame\n",
       "Columns: [show_id, type, title, director, cast, country, date_added, release_year, rating, duration, listed_in, description]\n",
       "Index: []"
      ]
     },
     "execution_count": 4,
     "metadata": {},
     "output_type": "execute_result"
    }
   ],
   "source": [
    "dups = df.duplicated(['title','country','type','release_year'])\n",
    "df[dups].head()"
   ]
  },
  {
   "cell_type": "code",
   "execution_count": 5,
   "metadata": {},
   "outputs": [],
   "source": [
    "df = df.drop_duplicates(['title','country','type','release_year'])\n",
    "df = df.drop('show_id',axis=1)"
   ]
  },
  {
   "cell_type": "code",
   "execution_count": 6,
   "metadata": {
    "scrolled": true
   },
   "outputs": [
    {
     "data": {
      "text/plain": [
       "0    João Miguel, Bianca Comparato, Michel Gomes, R...\n",
       "1    Demián Bichir, Héctor Bonilla, Oscar Serrano, ...\n",
       "2    Tedd Chan, Stella Chung, Henley Hii, Lawrence ...\n",
       "3    Elijah Wood, John C. Reilly, Jennifer Connelly...\n",
       "4    Jim Sturgess, Kevin Spacey, Kate Bosworth, Aar...\n",
       "Name: cast, dtype: object"
      ]
     },
     "execution_count": 6,
     "metadata": {},
     "output_type": "execute_result"
    }
   ],
   "source": [
    "df.cast.head()"
   ]
  },
  {
   "cell_type": "markdown",
   "metadata": {},
   "source": [
    "##### Clean columns"
   ]
  },
  {
   "cell_type": "code",
   "execution_count": 7,
   "metadata": {},
   "outputs": [
    {
     "data": {
      "text/html": [
       "<div>\n",
       "<style scoped>\n",
       "    .dataframe tbody tr th:only-of-type {\n",
       "        vertical-align: middle;\n",
       "    }\n",
       "\n",
       "    .dataframe tbody tr th {\n",
       "        vertical-align: top;\n",
       "    }\n",
       "\n",
       "    .dataframe thead th {\n",
       "        text-align: right;\n",
       "    }\n",
       "</style>\n",
       "<table border=\"1\" class=\"dataframe\">\n",
       "  <thead>\n",
       "    <tr style=\"text-align: right;\">\n",
       "      <th></th>\n",
       "      <th>type</th>\n",
       "      <th>title</th>\n",
       "      <th>director</th>\n",
       "      <th>cast</th>\n",
       "      <th>country</th>\n",
       "      <th>date_added</th>\n",
       "      <th>release_year</th>\n",
       "      <th>rating</th>\n",
       "      <th>duration</th>\n",
       "      <th>listed_in</th>\n",
       "      <th>description</th>\n",
       "      <th>number_of_cast</th>\n",
       "    </tr>\n",
       "  </thead>\n",
       "  <tbody>\n",
       "    <tr>\n",
       "      <th>0</th>\n",
       "      <td>TV Show</td>\n",
       "      <td>3%</td>\n",
       "      <td>NaN</td>\n",
       "      <td>João Miguel, Bianca Comparato, Michel Gomes, R...</td>\n",
       "      <td>Brazil</td>\n",
       "      <td>August 14, 2020</td>\n",
       "      <td>2020</td>\n",
       "      <td>TV-MA</td>\n",
       "      <td>4 Seasons</td>\n",
       "      <td>International TV Shows, TV Dramas, TV Sci-Fi &amp;...</td>\n",
       "      <td>In a future where the elite inhabit an island ...</td>\n",
       "      <td>11</td>\n",
       "    </tr>\n",
       "    <tr>\n",
       "      <th>1</th>\n",
       "      <td>Movie</td>\n",
       "      <td>7:19</td>\n",
       "      <td>Jorge Michel Grau</td>\n",
       "      <td>Demián Bichir, Héctor Bonilla, Oscar Serrano, ...</td>\n",
       "      <td>Mexico</td>\n",
       "      <td>December 23, 2016</td>\n",
       "      <td>2016</td>\n",
       "      <td>TV-MA</td>\n",
       "      <td>93 min</td>\n",
       "      <td>Dramas, International Movies</td>\n",
       "      <td>After a devastating earthquake hits Mexico Cit...</td>\n",
       "      <td>6</td>\n",
       "    </tr>\n",
       "    <tr>\n",
       "      <th>2</th>\n",
       "      <td>Movie</td>\n",
       "      <td>23:59</td>\n",
       "      <td>Gilbert Chan</td>\n",
       "      <td>Tedd Chan, Stella Chung, Henley Hii, Lawrence ...</td>\n",
       "      <td>Singapore</td>\n",
       "      <td>December 20, 2018</td>\n",
       "      <td>2011</td>\n",
       "      <td>R</td>\n",
       "      <td>78 min</td>\n",
       "      <td>Horror Movies, International Movies</td>\n",
       "      <td>When an army recruit is found dead, his fellow...</td>\n",
       "      <td>9</td>\n",
       "    </tr>\n",
       "    <tr>\n",
       "      <th>3</th>\n",
       "      <td>Movie</td>\n",
       "      <td>9</td>\n",
       "      <td>Shane Acker</td>\n",
       "      <td>Elijah Wood, John C. Reilly, Jennifer Connelly...</td>\n",
       "      <td>United States</td>\n",
       "      <td>November 16, 2017</td>\n",
       "      <td>2009</td>\n",
       "      <td>PG-13</td>\n",
       "      <td>80 min</td>\n",
       "      <td>Action &amp; Adventure, Independent Movies, Sci-Fi...</td>\n",
       "      <td>In a postapocalyptic world, rag-doll robots hi...</td>\n",
       "      <td>9</td>\n",
       "    </tr>\n",
       "    <tr>\n",
       "      <th>4</th>\n",
       "      <td>Movie</td>\n",
       "      <td>21</td>\n",
       "      <td>Robert Luketic</td>\n",
       "      <td>Jim Sturgess, Kevin Spacey, Kate Bosworth, Aar...</td>\n",
       "      <td>United States</td>\n",
       "      <td>January 1, 2020</td>\n",
       "      <td>2008</td>\n",
       "      <td>PG-13</td>\n",
       "      <td>123 min</td>\n",
       "      <td>Dramas</td>\n",
       "      <td>A brilliant group of students become card-coun...</td>\n",
       "      <td>12</td>\n",
       "    </tr>\n",
       "  </tbody>\n",
       "</table>\n",
       "</div>"
      ],
      "text/plain": [
       "      type  title           director  \\\n",
       "0  TV Show     3%                NaN   \n",
       "1    Movie   7:19  Jorge Michel Grau   \n",
       "2    Movie  23:59       Gilbert Chan   \n",
       "3    Movie      9        Shane Acker   \n",
       "4    Movie     21     Robert Luketic   \n",
       "\n",
       "                                                cast        country  \\\n",
       "0  João Miguel, Bianca Comparato, Michel Gomes, R...         Brazil   \n",
       "1  Demián Bichir, Héctor Bonilla, Oscar Serrano, ...         Mexico   \n",
       "2  Tedd Chan, Stella Chung, Henley Hii, Lawrence ...      Singapore   \n",
       "3  Elijah Wood, John C. Reilly, Jennifer Connelly...  United States   \n",
       "4  Jim Sturgess, Kevin Spacey, Kate Bosworth, Aar...  United States   \n",
       "\n",
       "          date_added  release_year rating   duration  \\\n",
       "0    August 14, 2020          2020  TV-MA  4 Seasons   \n",
       "1  December 23, 2016          2016  TV-MA     93 min   \n",
       "2  December 20, 2018          2011      R     78 min   \n",
       "3  November 16, 2017          2009  PG-13     80 min   \n",
       "4    January 1, 2020          2008  PG-13    123 min   \n",
       "\n",
       "                                           listed_in  \\\n",
       "0  International TV Shows, TV Dramas, TV Sci-Fi &...   \n",
       "1                       Dramas, International Movies   \n",
       "2                Horror Movies, International Movies   \n",
       "3  Action & Adventure, Independent Movies, Sci-Fi...   \n",
       "4                                             Dramas   \n",
       "\n",
       "                                         description  number_of_cast  \n",
       "0  In a future where the elite inhabit an island ...              11  \n",
       "1  After a devastating earthquake hits Mexico Cit...               6  \n",
       "2  When an army recruit is found dead, his fellow...               9  \n",
       "3  In a postapocalyptic world, rag-doll robots hi...               9  \n",
       "4  A brilliant group of students become card-coun...              12  "
      ]
     },
     "execution_count": 7,
     "metadata": {},
     "output_type": "execute_result"
    }
   ],
   "source": [
    "df['cast'] = df['cast'].replace(np.nan,'Unknown')\n",
    "def cast_counter(cast):\n",
    "    if cast=='Unknown':\n",
    "        return 0\n",
    "    else:\n",
    "        lst=cast.split(', ')\n",
    "        length=len(lst)\n",
    "        return length\n",
    "df['number_of_cast']=df['cast'].apply(cast_counter)\n",
    "df['cast']=df['cast'].replace('Unknown',np.nan)\n",
    "df.head()"
   ]
  },
  {
   "cell_type": "code",
   "execution_count": 8,
   "metadata": {
    "scrolled": true
   },
   "outputs": [
    {
     "data": {
      "text/html": [
       "<div>\n",
       "<style scoped>\n",
       "    .dataframe tbody tr th:only-of-type {\n",
       "        vertical-align: middle;\n",
       "    }\n",
       "\n",
       "    .dataframe tbody tr th {\n",
       "        vertical-align: top;\n",
       "    }\n",
       "\n",
       "    .dataframe thead th {\n",
       "        text-align: right;\n",
       "    }\n",
       "</style>\n",
       "<table border=\"1\" class=\"dataframe\">\n",
       "  <thead>\n",
       "    <tr style=\"text-align: right;\">\n",
       "      <th></th>\n",
       "      <th>index</th>\n",
       "      <th>type</th>\n",
       "      <th>title</th>\n",
       "      <th>director</th>\n",
       "      <th>cast</th>\n",
       "      <th>country</th>\n",
       "      <th>date_added</th>\n",
       "      <th>release_year</th>\n",
       "      <th>rating</th>\n",
       "      <th>duration</th>\n",
       "      <th>listed_in</th>\n",
       "      <th>description</th>\n",
       "      <th>number_of_cast</th>\n",
       "    </tr>\n",
       "  </thead>\n",
       "  <tbody>\n",
       "    <tr>\n",
       "      <th>0</th>\n",
       "      <td>0</td>\n",
       "      <td>TV Show</td>\n",
       "      <td>3%</td>\n",
       "      <td>NaN</td>\n",
       "      <td>João Miguel, Bianca Comparato, Michel Gomes, R...</td>\n",
       "      <td>Brazil</td>\n",
       "      <td>August 14, 2020</td>\n",
       "      <td>2020</td>\n",
       "      <td>TV-MA</td>\n",
       "      <td>4 Seasons</td>\n",
       "      <td>International TV Shows, TV Dramas, TV Sci-Fi &amp;...</td>\n",
       "      <td>In a future where the elite inhabit an island ...</td>\n",
       "      <td>11</td>\n",
       "    </tr>\n",
       "    <tr>\n",
       "      <th>1</th>\n",
       "      <td>1</td>\n",
       "      <td>Movie</td>\n",
       "      <td>7:19</td>\n",
       "      <td>Jorge Michel Grau</td>\n",
       "      <td>Demián Bichir, Héctor Bonilla, Oscar Serrano, ...</td>\n",
       "      <td>Mexico</td>\n",
       "      <td>December 23, 2016</td>\n",
       "      <td>2016</td>\n",
       "      <td>TV-MA</td>\n",
       "      <td>93 min</td>\n",
       "      <td>Dramas, International Movies</td>\n",
       "      <td>After a devastating earthquake hits Mexico Cit...</td>\n",
       "      <td>6</td>\n",
       "    </tr>\n",
       "    <tr>\n",
       "      <th>2</th>\n",
       "      <td>2</td>\n",
       "      <td>Movie</td>\n",
       "      <td>23:59</td>\n",
       "      <td>Gilbert Chan</td>\n",
       "      <td>Tedd Chan, Stella Chung, Henley Hii, Lawrence ...</td>\n",
       "      <td>Singapore</td>\n",
       "      <td>December 20, 2018</td>\n",
       "      <td>2011</td>\n",
       "      <td>R</td>\n",
       "      <td>78 min</td>\n",
       "      <td>Horror Movies, International Movies</td>\n",
       "      <td>When an army recruit is found dead, his fellow...</td>\n",
       "      <td>9</td>\n",
       "    </tr>\n",
       "    <tr>\n",
       "      <th>3</th>\n",
       "      <td>3</td>\n",
       "      <td>Movie</td>\n",
       "      <td>9</td>\n",
       "      <td>Shane Acker</td>\n",
       "      <td>Elijah Wood, John C. Reilly, Jennifer Connelly...</td>\n",
       "      <td>United States</td>\n",
       "      <td>November 16, 2017</td>\n",
       "      <td>2009</td>\n",
       "      <td>PG-13</td>\n",
       "      <td>80 min</td>\n",
       "      <td>Action &amp; Adventure, Independent Movies, Sci-Fi...</td>\n",
       "      <td>In a postapocalyptic world, rag-doll robots hi...</td>\n",
       "      <td>9</td>\n",
       "    </tr>\n",
       "    <tr>\n",
       "      <th>4</th>\n",
       "      <td>4</td>\n",
       "      <td>Movie</td>\n",
       "      <td>21</td>\n",
       "      <td>Robert Luketic</td>\n",
       "      <td>Jim Sturgess, Kevin Spacey, Kate Bosworth, Aar...</td>\n",
       "      <td>United States</td>\n",
       "      <td>January 1, 2020</td>\n",
       "      <td>2008</td>\n",
       "      <td>PG-13</td>\n",
       "      <td>123 min</td>\n",
       "      <td>Dramas</td>\n",
       "      <td>A brilliant group of students become card-coun...</td>\n",
       "      <td>12</td>\n",
       "    </tr>\n",
       "  </tbody>\n",
       "</table>\n",
       "</div>"
      ],
      "text/plain": [
       "   index     type  title           director  \\\n",
       "0      0  TV Show     3%                NaN   \n",
       "1      1    Movie   7:19  Jorge Michel Grau   \n",
       "2      2    Movie  23:59       Gilbert Chan   \n",
       "3      3    Movie      9        Shane Acker   \n",
       "4      4    Movie     21     Robert Luketic   \n",
       "\n",
       "                                                cast        country  \\\n",
       "0  João Miguel, Bianca Comparato, Michel Gomes, R...         Brazil   \n",
       "1  Demián Bichir, Héctor Bonilla, Oscar Serrano, ...         Mexico   \n",
       "2  Tedd Chan, Stella Chung, Henley Hii, Lawrence ...      Singapore   \n",
       "3  Elijah Wood, John C. Reilly, Jennifer Connelly...  United States   \n",
       "4  Jim Sturgess, Kevin Spacey, Kate Bosworth, Aar...  United States   \n",
       "\n",
       "          date_added  release_year rating   duration  \\\n",
       "0    August 14, 2020          2020  TV-MA  4 Seasons   \n",
       "1  December 23, 2016          2016  TV-MA     93 min   \n",
       "2  December 20, 2018          2011      R     78 min   \n",
       "3  November 16, 2017          2009  PG-13     80 min   \n",
       "4    January 1, 2020          2008  PG-13    123 min   \n",
       "\n",
       "                                           listed_in  \\\n",
       "0  International TV Shows, TV Dramas, TV Sci-Fi &...   \n",
       "1                       Dramas, International Movies   \n",
       "2                Horror Movies, International Movies   \n",
       "3  Action & Adventure, Independent Movies, Sci-Fi...   \n",
       "4                                             Dramas   \n",
       "\n",
       "                                         description  number_of_cast  \n",
       "0  In a future where the elite inhabit an island ...              11  \n",
       "1  After a devastating earthquake hits Mexico Cit...               6  \n",
       "2  When an army recruit is found dead, his fellow...               9  \n",
       "3  In a postapocalyptic world, rag-doll robots hi...               9  \n",
       "4  A brilliant group of students become card-coun...              12  "
      ]
     },
     "execution_count": 8,
     "metadata": {},
     "output_type": "execute_result"
    }
   ],
   "source": [
    "df = df.reset_index()\n",
    "df.head()"
   ]
  },
  {
   "cell_type": "markdown",
   "metadata": {},
   "source": [
    "##### Filling none values of rating column by adding median rating value"
   ]
  },
  {
   "cell_type": "code",
   "execution_count": 9,
   "metadata": {},
   "outputs": [],
   "source": [
    "df['rating']= df['rating'].fillna(df['rating'].mode()[0])"
   ]
  },
  {
   "cell_type": "markdown",
   "metadata": {},
   "source": [
    "##### Filling none values of date_added column by adding median release_year value"
   ]
  },
  {
   "cell_type": "code",
   "execution_count": 10,
   "metadata": {},
   "outputs": [],
   "source": [
    "df['date_added'] = df['date_added'].fillna('January 1, {}'.format(str(df['release_year'].mode()[0])))"
   ]
  },
  {
   "cell_type": "markdown",
   "metadata": {},
   "source": [
    "##### Replace missing rows by japan for Anime\n"
   ]
  },
  {
   "cell_type": "code",
   "execution_count": 11,
   "metadata": {},
   "outputs": [],
   "source": [
    "for i,j in zip(df['country'].values,df.index):\n",
    "    if i==np.nan:\n",
    "        if ('Anime' in df.loc[j,'listed_in']) or ('anime' in df.loc[j,'listed_in']):\n",
    "                df.loc[j,'country']='Japan'\n",
    "        else:\n",
    "            continue\n",
    "    else:\n",
    "        continue"
   ]
  },
  {
   "cell_type": "markdown",
   "metadata": {},
   "source": [
    "###### Convert the date_added column from object type to datetime"
   ]
  },
  {
   "cell_type": "code",
   "execution_count": 12,
   "metadata": {},
   "outputs": [
    {
     "data": {
      "text/html": [
       "<div>\n",
       "<style scoped>\n",
       "    .dataframe tbody tr th:only-of-type {\n",
       "        vertical-align: middle;\n",
       "    }\n",
       "\n",
       "    .dataframe tbody tr th {\n",
       "        vertical-align: top;\n",
       "    }\n",
       "\n",
       "    .dataframe thead th {\n",
       "        text-align: right;\n",
       "    }\n",
       "</style>\n",
       "<table border=\"1\" class=\"dataframe\">\n",
       "  <thead>\n",
       "    <tr style=\"text-align: right;\">\n",
       "      <th></th>\n",
       "      <th>index</th>\n",
       "      <th>type</th>\n",
       "      <th>title</th>\n",
       "      <th>director</th>\n",
       "      <th>cast</th>\n",
       "      <th>country</th>\n",
       "      <th>date_added</th>\n",
       "      <th>release_year</th>\n",
       "      <th>rating</th>\n",
       "      <th>duration</th>\n",
       "      <th>listed_in</th>\n",
       "      <th>description</th>\n",
       "      <th>number_of_cast</th>\n",
       "    </tr>\n",
       "  </thead>\n",
       "  <tbody>\n",
       "    <tr>\n",
       "      <th>0</th>\n",
       "      <td>0</td>\n",
       "      <td>TV Show</td>\n",
       "      <td>3%</td>\n",
       "      <td>NaN</td>\n",
       "      <td>João Miguel, Bianca Comparato, Michel Gomes, R...</td>\n",
       "      <td>Brazil</td>\n",
       "      <td>2020-08-14</td>\n",
       "      <td>2020</td>\n",
       "      <td>TV-MA</td>\n",
       "      <td>4 Seasons</td>\n",
       "      <td>International TV Shows, TV Dramas, TV Sci-Fi &amp;...</td>\n",
       "      <td>In a future where the elite inhabit an island ...</td>\n",
       "      <td>11</td>\n",
       "    </tr>\n",
       "    <tr>\n",
       "      <th>1</th>\n",
       "      <td>1</td>\n",
       "      <td>Movie</td>\n",
       "      <td>7:19</td>\n",
       "      <td>Jorge Michel Grau</td>\n",
       "      <td>Demián Bichir, Héctor Bonilla, Oscar Serrano, ...</td>\n",
       "      <td>Mexico</td>\n",
       "      <td>2016-12-23</td>\n",
       "      <td>2016</td>\n",
       "      <td>TV-MA</td>\n",
       "      <td>93 min</td>\n",
       "      <td>Dramas, International Movies</td>\n",
       "      <td>After a devastating earthquake hits Mexico Cit...</td>\n",
       "      <td>6</td>\n",
       "    </tr>\n",
       "    <tr>\n",
       "      <th>2</th>\n",
       "      <td>2</td>\n",
       "      <td>Movie</td>\n",
       "      <td>23:59</td>\n",
       "      <td>Gilbert Chan</td>\n",
       "      <td>Tedd Chan, Stella Chung, Henley Hii, Lawrence ...</td>\n",
       "      <td>Singapore</td>\n",
       "      <td>2018-12-20</td>\n",
       "      <td>2011</td>\n",
       "      <td>R</td>\n",
       "      <td>78 min</td>\n",
       "      <td>Horror Movies, International Movies</td>\n",
       "      <td>When an army recruit is found dead, his fellow...</td>\n",
       "      <td>9</td>\n",
       "    </tr>\n",
       "    <tr>\n",
       "      <th>3</th>\n",
       "      <td>3</td>\n",
       "      <td>Movie</td>\n",
       "      <td>9</td>\n",
       "      <td>Shane Acker</td>\n",
       "      <td>Elijah Wood, John C. Reilly, Jennifer Connelly...</td>\n",
       "      <td>United States</td>\n",
       "      <td>2017-11-16</td>\n",
       "      <td>2009</td>\n",
       "      <td>PG-13</td>\n",
       "      <td>80 min</td>\n",
       "      <td>Action &amp; Adventure, Independent Movies, Sci-Fi...</td>\n",
       "      <td>In a postapocalyptic world, rag-doll robots hi...</td>\n",
       "      <td>9</td>\n",
       "    </tr>\n",
       "    <tr>\n",
       "      <th>4</th>\n",
       "      <td>4</td>\n",
       "      <td>Movie</td>\n",
       "      <td>21</td>\n",
       "      <td>Robert Luketic</td>\n",
       "      <td>Jim Sturgess, Kevin Spacey, Kate Bosworth, Aar...</td>\n",
       "      <td>United States</td>\n",
       "      <td>2020-01-01</td>\n",
       "      <td>2008</td>\n",
       "      <td>PG-13</td>\n",
       "      <td>123 min</td>\n",
       "      <td>Dramas</td>\n",
       "      <td>A brilliant group of students become card-coun...</td>\n",
       "      <td>12</td>\n",
       "    </tr>\n",
       "  </tbody>\n",
       "</table>\n",
       "</div>"
      ],
      "text/plain": [
       "   index     type  title           director  \\\n",
       "0      0  TV Show     3%                NaN   \n",
       "1      1    Movie   7:19  Jorge Michel Grau   \n",
       "2      2    Movie  23:59       Gilbert Chan   \n",
       "3      3    Movie      9        Shane Acker   \n",
       "4      4    Movie     21     Robert Luketic   \n",
       "\n",
       "                                                cast        country  \\\n",
       "0  João Miguel, Bianca Comparato, Michel Gomes, R...         Brazil   \n",
       "1  Demián Bichir, Héctor Bonilla, Oscar Serrano, ...         Mexico   \n",
       "2  Tedd Chan, Stella Chung, Henley Hii, Lawrence ...      Singapore   \n",
       "3  Elijah Wood, John C. Reilly, Jennifer Connelly...  United States   \n",
       "4  Jim Sturgess, Kevin Spacey, Kate Bosworth, Aar...  United States   \n",
       "\n",
       "  date_added  release_year rating   duration  \\\n",
       "0 2020-08-14          2020  TV-MA  4 Seasons   \n",
       "1 2016-12-23          2016  TV-MA     93 min   \n",
       "2 2018-12-20          2011      R     78 min   \n",
       "3 2017-11-16          2009  PG-13     80 min   \n",
       "4 2020-01-01          2008  PG-13    123 min   \n",
       "\n",
       "                                           listed_in  \\\n",
       "0  International TV Shows, TV Dramas, TV Sci-Fi &...   \n",
       "1                       Dramas, International Movies   \n",
       "2                Horror Movies, International Movies   \n",
       "3  Action & Adventure, Independent Movies, Sci-Fi...   \n",
       "4                                             Dramas   \n",
       "\n",
       "                                         description  number_of_cast  \n",
       "0  In a future where the elite inhabit an island ...              11  \n",
       "1  After a devastating earthquake hits Mexico Cit...               6  \n",
       "2  When an army recruit is found dead, his fellow...               9  \n",
       "3  In a postapocalyptic world, rag-doll robots hi...               9  \n",
       "4  A brilliant group of students become card-coun...              12  "
      ]
     },
     "execution_count": 12,
     "metadata": {},
     "output_type": "execute_result"
    }
   ],
   "source": [
    "df['date_added'] = pd.to_datetime(df['date_added'])\n",
    "df.head()"
   ]
  },
  {
   "cell_type": "markdown",
   "metadata": {},
   "source": [
    "### Exploratory Data Analysis"
   ]
  },
  {
   "cell_type": "markdown",
   "metadata": {},
   "source": [
    "<p>Now, it is time to answer some questions.</p>\n",
    "<ul>\n",
    "    <li>Understand every category in rating column(Google it)</li>\n",
    "    <li>Understanding what content is available in different countries.</li>\n",
    "    <li>Is Netflix has increasingly focusing on TV rather than movies in recent years.</li>\n",
    "    <li>The most observed rating categories in TV-shows and Movies </li>\n",
    "    <li>Identifying similar content by matching text-based features</li>\n",
    "    <li>How many content its release year differ from its year added</li>\n",
    "</ul>"
   ]
  },
  {
   "cell_type": "markdown",
   "metadata": {},
   "source": [
    "<p>Let's now google the categories and explore them</p>\n",
    "<ul>\n",
    "    <li>TV-MA:This program is specifically designed to be viewed by adults and therefore may be unsuitable for children under 17.</li>\n",
    "    <li>TV-14:This program contains some material that many parents would find unsuitable for children under 14 years of age.</li>\n",
    "    <li>TV-PG:This program contains material that parents may find unsuitable for younger children.</li>\n",
    "    <li>R:Under 17 requires accompanying parent or adult guardian,Parents are urged to learn more about the film before taking their young children with them.</li>\n",
    "    <li>PG-13:Some material may be inappropriate for children under 13. Parents are urged to be cautious. Some material may be inappropriate for pre-teenagers.</li>\n",
    "    <li>NR or UR:If a film has not been submitted for a rating or is an uncut version of a film that was submitted</li>\n",
    "    <li>PG:Some material may not be suitable for children,May contain some material parents might not like for their young children.</li>\n",
    "    <li>TV-Y7:This program is designed for children age 7 and above.</li>\n",
    "    <li>TV-G:This program is suitable for all ages.</li>\n",
    "    <li>TV-Y:Programs rated TV-Y are designed to be appropriate for children of all ages. The thematic elements portrayed in programs with this rating are specifically designed for a very young audience, including children ages 2-6.</li>\n",
    "    <li>TV-Y7-FV:is recommended for ages 7 and older, with the unique advisory that the program contains fantasy violence.</li>\n",
    "    <li>G:All ages admitted. Nothing that would offend parents for viewing by children.</li>\n",
    "    <li>NC-17:No One 17 and Under Admitted. Clearly adult. Children are not admitted.</li>\n",
    "\n"
   ]
  },
  {
   "cell_type": "markdown",
   "metadata": {},
   "source": [
    "Here we discover that UR and NR is the same rating (unrated,Not rated) \n",
    "Uncut/extended versions of films that are labeled \"Unrated\" also contain warnings saying that the uncut version of the film contains content that differs from the theatrical release and might not be suitable for minors.\n",
    "So we have the fix this. "
   ]
  },
  {
   "cell_type": "code",
   "execution_count": 13,
   "metadata": {},
   "outputs": [],
   "source": [
    "for i in df.index:\n",
    "    if df.loc[i,'rating']=='UR':\n",
    "        df.loc[i,'rating']='NR'"
   ]
  },
  {
   "cell_type": "markdown",
   "metadata": {},
   "source": [
    "<p>Now we fix this problem by replace UR category by NR.</p>"
   ]
  },
  {
   "cell_type": "code",
   "execution_count": 14,
   "metadata": {},
   "outputs": [
    {
     "data": {
      "image/png": "[encoded data removed]",
      "text/plain": [
       "<Figure size 576x432 with 1 Axes>"
      ]
     },
     "metadata": {},
     "output_type": "display_data"
    }
   ],
   "source": [
    "plt.figure(figsize=(8,6))\n",
    "df['rating'].value_counts(normalize=True).plot.bar()\n",
    "plt.title('Distribution of rating categories')\n",
    "plt.xlabel('rating')\n",
    "plt.ylabel('relative frequency')\n",
    "plt.show()"
   ]
  },
  {
   "cell_type": "markdown",
   "metadata": {},
   "source": [
    "<p><p> After expecting the distribution of rating ctegories, it is abvious that TV-MA is the mode<br>\n",
    "    TV-14 comes in the second place and so on...<br></p>"
   ]
  },
  {
   "cell_type": "code",
   "execution_count": 15,
   "metadata": {},
   "outputs": [
    {
     "data": {
      "image/png": "[encoded data removed]",
      "text/plain": [
       "<Figure size 720x576 with 1 Axes>"
      ]
     },
     "metadata": {},
     "output_type": "display_data"
    }
   ],
   "source": [
    "plt.figure(figsize=(10,8))\n",
    "sns.countplot(x='rating',hue='type',data=df)\n",
    "plt.title('comparing frequency between type and rating')\n",
    "plt.show()"
   ]
  },
  {
   "cell_type": "markdown",
   "metadata": {},
   "source": [
    "<p>We can say that Movies is the majority category in every rating category on Netflix, except(TV-Y,TV-Y7,TV-Y7-FV).</p> "
   ]
  },
  {
   "cell_type": "code",
   "execution_count": 16,
   "metadata": {
    "scrolled": true
   },
   "outputs": [
    {
     "data": {
      "text/plain": [
       "United States                                                   2555\n",
       "India                                                            923\n",
       "United Kingdom                                                   397\n",
       "Japan                                                            226\n",
       "South Korea                                                      183\n",
       "                                                                ... \n",
       "India, Pakistan                                                    1\n",
       "United Kingdom, Belgium                                            1\n",
       "United Kingdom, India, Sweden                                      1\n",
       "Lebanon, Qatar                                                     1\n",
       "Sweden, Czech Republic, United Kingdom, Denmark, Netherlands       1\n",
       "Name: country, Length: 681, dtype: int64"
      ]
     },
     "execution_count": 16,
     "metadata": {},
     "output_type": "execute_result"
    }
   ],
   "source": [
    "df['country'].value_counts().sort_values(ascending=False)"
   ]
  },
  {
   "cell_type": "markdown",
   "metadata": {},
   "source": [
    "<p>We have huge number of countries in country column so we will focus on (United States,India,United Kingdom,Japan,Canada,Spain)</p>"
   ]
  },
  {
   "cell_type": "code",
   "execution_count": 17,
   "metadata": {},
   "outputs": [
    {
     "name": "stdout",
     "output_type": "stream",
     "text": [
      "United States\n",
      "India\n",
      "United Kingdom\n",
      "Japan\n",
      "South Korea\n"
     ]
    }
   ],
   "source": [
    "top_5_country = df['country'].value_counts().sort_values(ascending=False).head().index\n",
    "for country in top_5_country:\n",
    "    print(country)"
   ]
  },
  {
   "cell_type": "code",
   "execution_count": 18,
   "metadata": {},
   "outputs": [
    {
     "data": {
      "image/png": "[encoded data removed]",
      "text/plain": [
       "<Figure size 720x576 with 1 Axes>"
      ]
     },
     "metadata": {},
     "output_type": "display_data"
    }
   ],
   "source": [
    "top_productive_countries=df[(df['country']=='United States')|(df['country']=='India')|(df['country']=='United Kingdom')|(df['country']=='Japan')|\n",
    "                             (df['country']=='Canada')|(df['country']=='Spain')]\n",
    "plt.figure(figsize=(10,8))\n",
    "sns.countplot(x='country',hue='type',data=top_productive_countries)\n",
    "plt.title('comparing between the types that the top countries produce')\n",
    "plt.show()"
   ]
  },
  {
   "cell_type": "markdown",
   "metadata": {},
   "source": [
    "<p>UK and Japan produces TV-Shows more than Movies</p>"
   ]
  },
  {
   "cell_type": "code",
   "execution_count": 19,
   "metadata": {},
   "outputs": [
    {
     "name": "stdout",
     "output_type": "stream",
     "text": [
      "United States\n",
      "TV-MA       34.559687\n",
      "TV-14       14.794521\n",
      "R           14.246575\n",
      "TV-PG        9.432485\n",
      "PG-13        8.884540\n",
      "PG           5.636008\n",
      "TV-Y7        3.639922\n",
      "TV-Y         3.170254\n",
      "TV-G         3.013699\n",
      "NR           1.409002\n",
      "G            1.135029\n",
      "TV-Y7-FV     0.039139\n",
      "NC-17        0.039139\n",
      "Name: rating, dtype: float64\n",
      "----------\n",
      "India\n",
      "TV-14       56.338028\n",
      "TV-MA       24.702059\n",
      "TV-PG       14.409534\n",
      "TV-Y7        1.191766\n",
      "TV-G         0.975081\n",
      "TV-Y         0.650054\n",
      "NR           0.650054\n",
      "PG-13        0.433369\n",
      "PG           0.325027\n",
      "R            0.216685\n",
      "TV-Y7-FV     0.108342\n",
      "Name: rating, dtype: float64\n",
      "----------\n",
      "United Kingdom\n",
      "TV-MA    42.317380\n",
      "TV-PG    18.639798\n",
      "TV-14    17.128463\n",
      "R         7.808564\n",
      "TV-G      5.289673\n",
      "TV-Y      4.030227\n",
      "PG-13     1.763224\n",
      "TV-Y7     1.259446\n",
      "NR        1.259446\n",
      "PG        0.503778\n",
      "Name: rating, dtype: float64\n",
      "----------\n",
      "Japan\n",
      "TV-MA    36.725664\n",
      "TV-14    34.070796\n",
      "TV-PG    17.256637\n",
      "TV-Y7     7.522124\n",
      "PG        2.212389\n",
      "PG-13     1.327434\n",
      "TV-Y      0.442478\n",
      "TV-G      0.442478\n",
      "Name: rating, dtype: float64\n",
      "----------\n",
      "Canada\n",
      "TV-MA       33.898305\n",
      "TV-14       12.994350\n",
      "TV-PG       12.429379\n",
      "TV-Y         9.604520\n",
      "R            9.039548\n",
      "TV-G         7.909605\n",
      "TV-Y7        5.084746\n",
      "PG           4.519774\n",
      "PG-13        1.694915\n",
      "NR           1.129944\n",
      "TV-Y7-FV     0.564972\n",
      "G            0.564972\n",
      "NC-17        0.564972\n",
      "Name: rating, dtype: float64\n",
      "----------\n",
      "Spain\n",
      "TV-MA    81.343284\n",
      "TV-14     8.955224\n",
      "TV-PG     3.731343\n",
      "R         1.492537\n",
      "TV-Y      1.492537\n",
      "NR        0.746269\n",
      "PG        0.746269\n",
      "TV-G      0.746269\n",
      "PG-13     0.746269\n",
      "Name: rating, dtype: float64\n",
      "----------\n"
     ]
    }
   ],
   "source": [
    "for i in top_productive_countries['country'].unique():\n",
    "    print(i)\n",
    "    print(top_productive_countries[top_productive_countries['country']==i]['rating'].value_counts(normalize=True)*100)\n",
    "    print('-'*10)"
   ]
  },
  {
   "cell_type": "markdown",
   "metadata": {},
   "source": [
    "<p>Now let's see if Netflix focuse on TV rather than movies in recent years(2017-2018-2019)</p>"
   ]
  },
  {
   "cell_type": "code",
   "execution_count": 20,
   "metadata": {},
   "outputs": [],
   "source": [
    "df['year_added']=df['date_added'].dt.year"
   ]
  },
  {
   "cell_type": "code",
   "execution_count": 21,
   "metadata": {},
   "outputs": [
    {
     "data": {
      "text/plain": [
       "Movie      0.69051\n",
       "TV Show    0.30949\n",
       "Name: type, dtype: float64"
      ]
     },
     "execution_count": 21,
     "metadata": {},
     "output_type": "execute_result"
    }
   ],
   "source": [
    "df['type'].value_counts(normalize=True)"
   ]
  },
  {
   "cell_type": "markdown",
   "metadata": {},
   "source": [
    "<p>Relative frequency of movies still has the lead</p>"
   ]
  },
  {
   "cell_type": "code",
   "execution_count": 22,
   "metadata": {},
   "outputs": [
    {
     "data": {
      "text/plain": [
       "year_added  type   \n",
       "2008        Movie       50.000000\n",
       "            TV Show     50.000000\n",
       "2009        Movie      100.000000\n",
       "2010        Movie      100.000000\n",
       "2011        Movie      100.000000\n",
       "2012        Movie      100.000000\n",
       "2013        Movie       54.545455\n",
       "            TV Show     45.454545\n",
       "2014        Movie       76.000000\n",
       "            TV Show     24.000000\n",
       "2015        Movie       65.909091\n",
       "            TV Show     34.090909\n",
       "2016        Movie       58.239278\n",
       "            TV Show     41.760722\n",
       "2017        Movie       70.530612\n",
       "            TV Show     29.469388\n",
       "2018        Movie       74.041298\n",
       "            TV Show     25.958702\n",
       "2019        Movie       69.530887\n",
       "            TV Show     30.469113\n",
       "2020        Movie       65.306122\n",
       "            TV Show     34.693878\n",
       "2021        Movie       75.213675\n",
       "            TV Show     24.786325\n",
       "Name: type, dtype: float64"
      ]
     },
     "execution_count": 22,
     "metadata": {},
     "output_type": "execute_result"
    }
   ],
   "source": [
    "df.groupby('year_added')['type'].value_counts(normalize=True)*100"
   ]
  },
  {
   "cell_type": "markdown",
   "metadata": {},
   "source": [
    "<p>We can say that Netflix begin to focus on TV-Shows,but Movies still has the lead in evey year.</p>"
   ]
  },
  {
   "cell_type": "code",
   "execution_count": 23,
   "metadata": {},
   "outputs": [
    {
     "data": {
      "text/plain": [
       "Series([], Name: title, dtype: object)"
      ]
     },
     "execution_count": 23,
     "metadata": {},
     "output_type": "execute_result"
    }
   ],
   "source": [
    "dups=df.duplicated(['title'])\n",
    "df[dups]['title']"
   ]
  },
  {
   "cell_type": "markdown",
   "metadata": {},
   "source": [
    "<p>This title have one or more contents</p>"
   ]
  },
  {
   "cell_type": "code",
   "execution_count": 24,
   "metadata": {},
   "outputs": [],
   "source": [
    "for i in df[dups]['title'].values:\n",
    "    print(df[df['title']==i][['title','type','release_year','country']])\n",
    "    print('-'*40)"
   ]
  },
  {
   "cell_type": "code",
   "execution_count": 25,
   "metadata": {},
   "outputs": [
    {
     "data": {
      "image/png": "[encoded data removed]",
      "text/plain": [
       "<Figure size 720x576 with 1 Axes>"
      ]
     },
     "metadata": {},
     "output_type": "display_data"
    }
   ],
   "source": [
    "plt.figure(figsize=(10,8))\n",
    "df['year_added'].value_counts().plot.bar()\n",
    "plt.title('distribution of year-added')\n",
    "plt.ylabel('relative frequency')\n",
    "plt.xlabel('year_added')\n",
    "plt.show()"
   ]
  },
  {
   "cell_type": "markdown",
   "metadata": {},
   "source": [
    "<p>2019 is remarkable year for Netflix</p>"
   ]
  },
  {
   "cell_type": "code",
   "execution_count": 26,
   "metadata": {},
   "outputs": [
    {
     "name": "stdout",
     "output_type": "stream",
     "text": [
      "Number of contents that its release year differ from the year added to netflix are  4961\n"
     ]
    }
   ],
   "source": [
    "counts=0\n",
    "for i,j in zip(df['release_year'].values,df['year_added'].values):\n",
    "    if i!=j:\n",
    "        counts+=1\n",
    "print('Number of contents that its release year differ from the year added to netflix are ',str(counts))"
   ]
  },
  {
   "cell_type": "code",
   "execution_count": 27,
   "metadata": {
    "scrolled": true
   },
   "outputs": [
    {
     "data": {
      "text/html": [
       "<div>\n",
       "<style scoped>\n",
       "    .dataframe tbody tr th:only-of-type {\n",
       "        vertical-align: middle;\n",
       "    }\n",
       "\n",
       "    .dataframe tbody tr th {\n",
       "        vertical-align: top;\n",
       "    }\n",
       "\n",
       "    .dataframe thead th {\n",
       "        text-align: right;\n",
       "    }\n",
       "</style>\n",
       "<table border=\"1\" class=\"dataframe\">\n",
       "  <thead>\n",
       "    <tr style=\"text-align: right;\">\n",
       "      <th></th>\n",
       "      <th>index</th>\n",
       "      <th>type</th>\n",
       "      <th>title</th>\n",
       "      <th>director</th>\n",
       "      <th>cast</th>\n",
       "      <th>country</th>\n",
       "      <th>date_added</th>\n",
       "      <th>release_year</th>\n",
       "      <th>rating</th>\n",
       "      <th>duration</th>\n",
       "      <th>listed_in</th>\n",
       "      <th>description</th>\n",
       "      <th>number_of_cast</th>\n",
       "      <th>year_added</th>\n",
       "    </tr>\n",
       "  </thead>\n",
       "  <tbody>\n",
       "    <tr>\n",
       "      <th>0</th>\n",
       "      <td>0</td>\n",
       "      <td>TV Show</td>\n",
       "      <td>3%</td>\n",
       "      <td>NaN</td>\n",
       "      <td>João Miguel, Bianca Comparato, Michel Gomes, R...</td>\n",
       "      <td>Brazil</td>\n",
       "      <td>2020-08-14</td>\n",
       "      <td>2020</td>\n",
       "      <td>TV-MA</td>\n",
       "      <td>4</td>\n",
       "      <td>International TV Shows, TV Dramas, TV Sci-Fi &amp;...</td>\n",
       "      <td>In a future where the elite inhabit an island ...</td>\n",
       "      <td>11</td>\n",
       "      <td>2020</td>\n",
       "    </tr>\n",
       "    <tr>\n",
       "      <th>5</th>\n",
       "      <td>5</td>\n",
       "      <td>TV Show</td>\n",
       "      <td>46</td>\n",
       "      <td>Serdar Akar</td>\n",
       "      <td>Erdal Beşikçioğlu, Yasemin Allen, Melis Birkan...</td>\n",
       "      <td>Turkey</td>\n",
       "      <td>2017-07-01</td>\n",
       "      <td>2016</td>\n",
       "      <td>TV-MA</td>\n",
       "      <td>1</td>\n",
       "      <td>International TV Shows, TV Dramas, TV Mysteries</td>\n",
       "      <td>A genetics professor experiments with a treatm...</td>\n",
       "      <td>10</td>\n",
       "      <td>2017</td>\n",
       "    </tr>\n",
       "    <tr>\n",
       "      <th>11</th>\n",
       "      <td>11</td>\n",
       "      <td>TV Show</td>\n",
       "      <td>1983</td>\n",
       "      <td>NaN</td>\n",
       "      <td>Robert Więckiewicz, Maciej Musiał, Michalina O...</td>\n",
       "      <td>Poland, United States</td>\n",
       "      <td>2018-11-30</td>\n",
       "      <td>2018</td>\n",
       "      <td>TV-MA</td>\n",
       "      <td>1</td>\n",
       "      <td>Crime TV Shows, International TV Shows, TV Dramas</td>\n",
       "      <td>In this dark alt-history thriller, a naïve law...</td>\n",
       "      <td>12</td>\n",
       "      <td>2018</td>\n",
       "    </tr>\n",
       "    <tr>\n",
       "      <th>12</th>\n",
       "      <td>12</td>\n",
       "      <td>TV Show</td>\n",
       "      <td>1994</td>\n",
       "      <td>Diego Enrique Osorno</td>\n",
       "      <td>NaN</td>\n",
       "      <td>Mexico</td>\n",
       "      <td>2019-05-17</td>\n",
       "      <td>2019</td>\n",
       "      <td>TV-MA</td>\n",
       "      <td>1</td>\n",
       "      <td>Crime TV Shows, Docuseries, International TV S...</td>\n",
       "      <td>Archival video and new interviews examine Mexi...</td>\n",
       "      <td>0</td>\n",
       "      <td>2019</td>\n",
       "    </tr>\n",
       "    <tr>\n",
       "      <th>16</th>\n",
       "      <td>16</td>\n",
       "      <td>TV Show</td>\n",
       "      <td>Feb-09</td>\n",
       "      <td>NaN</td>\n",
       "      <td>Shahd El Yaseen, Shaila Sabt, Hala, Hanadi Al-...</td>\n",
       "      <td>NaN</td>\n",
       "      <td>2019-03-20</td>\n",
       "      <td>2018</td>\n",
       "      <td>TV-14</td>\n",
       "      <td>1</td>\n",
       "      <td>International TV Shows, TV Dramas</td>\n",
       "      <td>As a psychology professor faces Alzheimer's, h...</td>\n",
       "      <td>10</td>\n",
       "      <td>2019</td>\n",
       "    </tr>\n",
       "  </tbody>\n",
       "</table>\n",
       "</div>"
      ],
      "text/plain": [
       "    index     type   title              director  \\\n",
       "0       0  TV Show      3%                   NaN   \n",
       "5       5  TV Show      46           Serdar Akar   \n",
       "11     11  TV Show    1983                   NaN   \n",
       "12     12  TV Show    1994  Diego Enrique Osorno   \n",
       "16     16  TV Show  Feb-09                   NaN   \n",
       "\n",
       "                                                 cast                country  \\\n",
       "0   João Miguel, Bianca Comparato, Michel Gomes, R...                 Brazil   \n",
       "5   Erdal Beşikçioğlu, Yasemin Allen, Melis Birkan...                 Turkey   \n",
       "11  Robert Więckiewicz, Maciej Musiał, Michalina O...  Poland, United States   \n",
       "12                                                NaN                 Mexico   \n",
       "16  Shahd El Yaseen, Shaila Sabt, Hala, Hanadi Al-...                    NaN   \n",
       "\n",
       "   date_added  release_year rating  duration  \\\n",
       "0  2020-08-14          2020  TV-MA         4   \n",
       "5  2017-07-01          2016  TV-MA         1   \n",
       "11 2018-11-30          2018  TV-MA         1   \n",
       "12 2019-05-17          2019  TV-MA         1   \n",
       "16 2019-03-20          2018  TV-14         1   \n",
       "\n",
       "                                            listed_in  \\\n",
       "0   International TV Shows, TV Dramas, TV Sci-Fi &...   \n",
       "5     International TV Shows, TV Dramas, TV Mysteries   \n",
       "11  Crime TV Shows, International TV Shows, TV Dramas   \n",
       "12  Crime TV Shows, Docuseries, International TV S...   \n",
       "16                  International TV Shows, TV Dramas   \n",
       "\n",
       "                                          description  number_of_cast  \\\n",
       "0   In a future where the elite inhabit an island ...              11   \n",
       "5   A genetics professor experiments with a treatm...              10   \n",
       "11  In this dark alt-history thriller, a naïve law...              12   \n",
       "12  Archival video and new interviews examine Mexi...               0   \n",
       "16  As a psychology professor faces Alzheimer's, h...              10   \n",
       "\n",
       "    year_added  \n",
       "0         2020  \n",
       "5         2017  \n",
       "11        2018  \n",
       "12        2019  \n",
       "16        2019  "
      ]
     },
     "execution_count": 27,
     "metadata": {},
     "output_type": "execute_result"
    }
   ],
   "source": [
    "df2 = df[df.type == 'TV Show'].copy()\n",
    "df2['duration'] = df2['duration'].str.replace(' Seasons', '')\n",
    "df2['duration'] = df2['duration'].str.replace(' Season', '').astype(int)\n",
    "df2.head()"
   ]
  },
  {
   "cell_type": "code",
   "execution_count": 28,
   "metadata": {},
   "outputs": [
    {
     "data": {
      "text/plain": [
       "\"Grey's Anatomy\""
      ]
     },
     "execution_count": 28,
     "metadata": {},
     "output_type": "execute_result"
    }
   ],
   "source": [
    "df2.loc[df2.duration.idxmax()]['title']"
   ]
  },
  {
   "cell_type": "markdown",
   "metadata": {},
   "source": [
    "Grey's Anatomy is the movie that has the most seasons."
   ]
  }
 ],
 "metadata": {
  "kernelspec": {
   "display_name": "Python 3.9.12 ('base')",
   "language": "python",
   "name": "python3"
  },
  "language_info": {
   "codemirror_mode": {
    "name": "ipython",
    "version": 3
   },
   "file_extension": ".py",
   "mimetype": "text/x-python",
   "name": "python",
   "nbconvert_exporter": "python",
   "pygments_lexer": "ipython3",
   "version": "3.9.12"
  },
  "vscode": {
   "interpreter": {
    "hash": "62fb9efad55e223979a5962b5a2e81d0e64a8aa8bc1c14d9012c7a60f5773be2"
   }
  }
 },
 "nbformat": 4,
 "nbformat_minor": 1
}
